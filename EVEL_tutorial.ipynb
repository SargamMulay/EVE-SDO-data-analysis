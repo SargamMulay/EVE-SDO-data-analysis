{
 "cells": [
  {
   "cell_type": "markdown",
   "id": "c63e68b6",
   "metadata": {},
   "source": [
    "# **Solar ultraviolet spectroscopy** #\n",
    "\n",
    "This tutorial includes information on ultraviolet spectroscopic observations of solar flares and provides guidance on how to analyze flare data using Python programming.\n",
    "\n",
    "We will be using ultravoilet spectroscopic observation of a solar flare from the Extreme Ultraviolet Variability Experiment (EVE) instrument on board the Solar Dynamics Observatory (SDO) observatory. Since 2010, EVE has been observing the Sun and produce a spectrum in the wavelength range of 0.1 to 105 nm. It provides data with a time resolution of 10 seconds in \"Sun as a star\" mode and does not offer image resolution.\n",
    "\n",
    "The EVE instrument employs two grating spectrographs: MEGS-A for short wavelengths (5-37 nm) and MEGS-B for longer wavelengths (35-105 nm). Each spectrograph images the wavelength-dispersed whole solar disk onto a CCD.\n",
    "\n",
    "\n",
    "### **EVE instrument:** ### \n",
    "link - https://lasp.colorado.edu/instruments/eve/ \\\n",
    "link - https://lasp.colorado.edu/home/eve/ \n",
    "\n",
    "\n",
    "### **Level 2 Science Products** ###\n",
    "\n",
    "The EVE Level 2 products are stored in the scientific format called FITS as binary tables.\n",
    "\n",
    "Two types of EVE level 2 products are routinely created: Spectra (EVS) and Lines (EVL).\n",
    "\n",
    "The EVEL level 2 line files contain 6 header data units, containing data and corresponding information pertaining to 30 extracted solar emission lines. Each file contains one hour's worth of observations with each observation being reported at the instruments nominal integration time of 10 seconds, except the 4 Hz ESP diode values that are averaged to 10 seconds to correspond with other EVE instrument observations.\n",
    "\n",
    "### **Naming Convention** ###\n",
    "\n",
    "Level 2 products follow this naming convention: \\\n",
    "EV?_L2_YYYYDDD_HH_vvv_rr.fit where: \\\n",
    "EV designates this as an EVE product \\\n",
    "? is either S (spectrum) or L (lines/bands) \\\n",
    "L2 designates this as a level 2 product YYYY is the year \\\n",
    "DDD is the day of year (001 - 366) \\\n",
    "HH is the UT hour of day (00 - 23) \\\n",
    "vvv is the version number (007) \\\n",
    "rr is the revision number (01 - 99) \n",
    "        \n",
    "        \n",
    "### **Science data access** ### \n",
    "link: https://lasp.colorado.edu/eve/data_access/index.html\n",
    "\n",
    "\n",
    "### **EVE level 2 data download** ###\n",
    "link: https://lasp.colorado.edu/eve/data_access/eve_data/misc/eve_calendars/calendar_level2_2018.html\n",
    "\n",
    "### **EVE documentation** ###\n",
    "link: https://lasp.colorado.edu/eve/data_access/eve-documentation/index.html  \n",
    "\n",
    "### **Full documentation for the flare catalog** ###\n",
    "link: https://lasp.colorado.edu/eve/data_access/eve-flare-catalog/index.html \\\n",
    "link: https://lasp.colorado.edu/eve/data_access/eve_data/Flare_Catalog/eve_flare_catalog.pdf "
   ]
  },
  {
   "cell_type": "code",
   "execution_count": 5,
   "id": "f0415a87",
   "metadata": {},
   "outputs": [],
   "source": [
    "### Importing relevant modules\n",
    "\n",
    "import numpy as np\n",
    "\n",
    "from astropy.io import fits\n",
    "import astropy.units as u\n",
    "\n",
    "import matplotlib\n",
    "import matplotlib.pyplot as plt\n",
    "from matplotlib import gridspec\n",
    "import matplotlib.ticker as ticker\n",
    "%matplotlib inline\n",
    "from matplotlib.ticker import AutoMinorLocator\n",
    "\n",
    "from scipy import stats\n",
    "import scipy as scipy\n",
    "from scipy import optimize\n",
    "\n",
    "# you need to install lmfit package - conda install -c conda-forge lmfit\n",
    "#from lmfit import Model, Parameters\n",
    "import matplotlib.ticker as tck\n",
    "\n",
    "# set the font globally\n",
    "# plt.rcParams.update({'font.family':'sans-serif'})\n",
    "\n",
    "# set the font name for a font family\n",
    "# plt.rcParams.update({'font.sans-serif':'Helvetica'})\n",
    "\n",
    "from datetime import timedelta\n",
    "from datetime import datetime\n"
   ]
  },
  {
   "cell_type": "code",
   "execution_count": 7,
   "id": "4b0ef5d8",
   "metadata": {},
   "outputs": [
    {
     "data": {
      "text/plain": [
       "[<astropy.io.fits.hdu.image.PrimaryHDU object at 0x168d79460>, <astropy.io.fits.hdu.table.BinTableHDU object at 0x168d7b950>, <astropy.io.fits.hdu.table.BinTableHDU object at 0x168d74890>, <astropy.io.fits.hdu.table.BinTableHDU object at 0x168d7d0a0>, <astropy.io.fits.hdu.table.BinTableHDU object at 0x168d7df70>, <astropy.io.fits.hdu.table.BinTableHDU object at 0x168d7cf80>, <astropy.io.fits.hdu.table.BinTableHDU object at 0x168d6fda0>]"
      ]
     },
     "execution_count": 7,
     "metadata": {},
     "output_type": "execute_result"
    }
   ],
   "source": [
    "# locate the file path where EVE data is available\n",
    "# open EVE Line FITS file\n",
    "# summarizes the content of the opened FITS file\n",
    "\n",
    "flare_file1 = fits.open('/Users/sargammulay/Desktop/python/EVE_puthon_tutorial/EVL_L2_2013134_01_007_01.fit.gz')\n",
    "\n",
    "flare_file1\n",
    "\n",
    "# HDUList - https://docs.astropy.org/en/stable/io/fits/api/hdulists.html#astropy.io.fits.HDUList\n",
    "\n",
    "# The open function returns an object called an HDUList which is a list-like collection of HDU objects. \n",
    "# An HDU (Header Data Unit) is the highest level component of the FITS file structure, consisting of a header \n",
    "# and (typically) a data array or table.\n",
    "\n",
    "# After the above open call, hdul[0] is the primary HDU, hdul[1] is the first extension HDU, etc. \n",
    "# (if there are any extensions), and so on. It should be noted that astropy uses zero-based indexing when \n",
    "# referring to HDUs and header cards, though the FITS standard \n"
   ]
  },
  {
   "cell_type": "code",
   "execution_count": 8,
   "id": "a55a9627",
   "metadata": {},
   "outputs": [
    {
     "data": {
      "text/plain": [
       "<function HDUList.index(value, start=0, stop=9223372036854775807, /)>"
      ]
     },
     "execution_count": 8,
     "metadata": {},
     "output_type": "execute_result"
    }
   ],
   "source": [
    "# Index of HDU for which info is to be returned.\n",
    "\n",
    "flare_file1.index"
   ]
  },
  {
   "cell_type": "code",
   "execution_count": 9,
   "id": "d3172a7a",
   "metadata": {
    "scrolled": true
   },
   "outputs": [
    {
     "name": "stdout",
     "output_type": "stream",
     "text": [
      "Filename: /Users/sargammulay/Desktop/python/EVE_puthon_tutorial/EVL_L2_2013134_01_007_01.fit.gz\n",
      "No.    Name      Ver    Type      Cards   Dimensions   Format\n",
      "  0  PRIMARY       1 PrimaryHDU       4   ()      \n",
      "  1  LinesMeta     1 BinTableHDU     45   39R x 7C   [E, E, E, E, 8A, 5A, 13A]   \n",
      "  2  BandsMeta     1 BinTableHDU     31   20R x 4C   [13A, 4A, E, E]   \n",
      "  3  DiodeMeta     1 BinTableHDU     28   6R x 3C   [25A, 6A, 5A]   \n",
      "  4  QuadMeta      1 BinTableHDU     26   4R x 2C   [2A, 3A]   \n",
      "  5  LinesData     1 BinTableHDU    114   360R x 19C   [D, J, D, B, B, 39E, 39E, 39E, 20E, 20E, 20E, 6E, 6E, 6E, 6E, 4E, 4E, 4E, 4E]   \n",
      "  6  LinesDataUnits    1 BinTableHDU     58   1R x 19C   [87A, 62A, 65A, 49A, 81A, 171A, 18A, 17A, 242A, 18A, 17A, 59A, 72A, 18A, 66A, 135A, 72A, 49A, 75A]   \n"
     ]
    }
   ],
   "source": [
    "# Returns a dictionary detailing information about the locations of the indexed HDU within any associated file.\n",
    "# read the header of the file\n",
    "flare_file1.info()"
   ]
  },
  {
   "cell_type": "markdown",
   "id": "3799c4ed",
   "metadata": {},
   "source": [
    "## Level 2 Lines/Bands Products ##\n",
    "\n",
    "The EVE level 2 line files contain 6 header data units, containing data and corresponding\n",
    "information pertaining to 30 extracted solar emission lines. Each file contains one hour’s\n",
    "worth of observations with each observation being reported at the instruments nominal\n",
    "integration time of 10 seconds, except the 4 Hz ESP diode values that are averaged to 10\n",
    "seconds to correspond with other EVE instrument observations."
   ]
  },
  {
   "cell_type": "code",
   "execution_count": 11,
   "id": "33348267",
   "metadata": {},
   "outputs": [
    {
     "data": {
      "text/plain": [
       "SIMPLE  =                    T /Dummy Created by MWRFITS v1.11                  \n",
       "BITPIX  =                    8 /Dummy primary header created by MWRFITS         \n",
       "NAXIS   =                    0 /No data is associated with this header          \n",
       "EXTEND  =                    T /Extensions may (will!) be present               "
      ]
     },
     "execution_count": 11,
     "metadata": {},
     "output_type": "execute_result"
    }
   ],
   "source": [
    "# check the header of the file\n",
    "flare_file1[0].header"
   ]
  },
  {
   "cell_type": "markdown",
   "id": "3a269aba",
   "metadata": {},
   "source": [
    "## LinesMeta: ##\n",
    "\n",
    "The LinesMeta data unit contains information about lines derived from the EVE\n",
    "level 2 spectrum. It contains wavelength information describing the line, line\n",
    "temperature, the line name, line type, and other lines included within the\n",
    "wavelength band of the line as described in the following table.\n",
    "\n",
    "| Column Name | Type | Description | \n",
    "| :- | -: | :-: |\n",
    "| wave_center | Float | Center wavelength of line |\n",
    "| wave_min    | Float | Minimum wavelength of line |\n",
    "| wave_max    | Float | Maximum wavelength of line |\n",
    "| LogT        | Float | Log (base 10) temperature of line (K) |\n",
    "| Name        | String | Line name example (Fe XVIII) |\n",
    "| Type        | String | Type of line example (F) |\n",
    "| Blends      | String | Other lines included in this line |\n"
   ]
  },
  {
   "cell_type": "code",
   "execution_count": 12,
   "id": "63582a85",
   "metadata": {},
   "outputs": [
    {
     "data": {
      "text/plain": [
       "XTENSION= 'BINTABLE'           /Binary table written by MWRFITS v1.11           \n",
       "BITPIX  =                    8 /Required value                                  \n",
       "NAXIS   =                    2 /Required value                                  \n",
       "NAXIS1  =                   42 /Number of bytes per row                         \n",
       "NAXIS2  =                   39 /Number of rows                                  \n",
       "PCOUNT  =                    0 /Normally 0 (no varying arrays)                  \n",
       "GCOUNT  =                    1 /Required value                                  \n",
       "TFIELDS =                    7 /Number of columns in table                      \n",
       "COMMENT                                                                         \n",
       "COMMENT  *** End of mandatory fields ***                                        \n",
       "COMMENT                                                                         \n",
       "EXTNAME = 'LinesMeta'                                                           \n",
       "TUNIT1  = 'nm'                                                                  \n",
       "TUNIT2  = 'nm'                                                                  \n",
       "TUNIT3  = 'nm'                                                                  \n",
       "TUNIT4  = 'log(K)'                                                              \n",
       "COMMENT                                                                         \n",
       "COMMENT  *** Column names ***                                                   \n",
       "COMMENT                                                                         \n",
       "TTYPE1  = 'WAVE_CENTER'        /                                                \n",
       "TTYPE2  = 'WAVE_MIN'           /                                                \n",
       "TTYPE3  = 'WAVE_MAX'           /                                                \n",
       "TTYPE4  = 'LOGT    '           /                                                \n",
       "TTYPE5  = 'NAME    '           /                                                \n",
       "TTYPE6  = 'TYPE    '           /                                                \n",
       "TTYPE7  = 'BLENDS  '           /                                                \n",
       "COMMENT                                                                         \n",
       "COMMENT  *** Column formats ***                                                 \n",
       "COMMENT                                                                         \n",
       "TFORM1  = 'E       '           /                                                \n",
       "TFORM2  = 'E       '           /                                                \n",
       "TFORM3  = 'E       '           /                                                \n",
       "TFORM4  = 'E       '           /                                                \n",
       "TFORM5  = '8A      '           /                                                \n",
       "TFORM6  = '5A      '           /                                                \n",
       "TFORM7  = '13A     '           /                                                \n",
       "COMMENT  For every element in the LINE_* column in the LinesData table, there is\n",
       "COMMENT  one row here describing the spectral line for that element             \n",
       "COMMENT  wave_center is the nominal 'center' or 'peak'                          \n",
       "COMMENT  wave_min is the lower edge of the integration window                   \n",
       "COMMENT  wave_max is the upper edge of the integration window                   \n",
       "COMMENT  logt is the base-10 log of the temperature of this line in Kelvin      \n",
       "COMMENT  name is the primary ion                                                \n",
       "COMMENT  type is the electron configuration of the primary ion                  \n",
       "COMMENT  blends are other ions that may be in this line                         "
      ]
     },
     "execution_count": 12,
     "metadata": {},
     "output_type": "execute_result"
    }
   ],
   "source": [
    "flare_file1[1].header"
   ]
  },
  {
   "cell_type": "code",
   "execution_count": 13,
   "id": "522c6f3c",
   "metadata": {},
   "outputs": [
    {
     "name": "stdout",
     "output_type": "stream",
     "text": [
      "[(  9.3926,   9.33,   9.43, 6.81, 'Fe XVIII', 'F', '')\n",
      " ( 13.124 ,  13.04,  13.17, 5.57, 'Fe VIII', 'K', 'Fe VIII')\n",
      " ( 13.285 ,  13.23,  13.32, 6.97, 'Fe XX', 'N', 'Fe XXIII')\n",
      " ( 17.107 ,  17.02,  17.24, 5.81, 'Fe IX', 'Ar', '')\n",
      " ( 17.7243,  17.63,  17.83, 5.99, 'Fe X', 'Cl', 'Fe VII')\n",
      " ( 18.0407,  17.96,  18.15, 6.07, 'Fe XI', 'S', 'Fe X, Fe VII')\n",
      " ( 19.512 ,  19.43,  19.61, 6.13, 'Fe XII', 'P', '')\n",
      " ( 20.2044,  20.14,  20.32, 6.19, 'Fe XIII', 'Si', 'Fe XI, Fe XII')\n",
      " ( 21.1331,  21.07,  21.2 , 6.27, 'Fe XIV', 'Al', 'Fe XII')\n",
      " ( 25.6317,  25.55,  25.68, 4.75, 'He II', 'H', '')\n",
      " ( 28.415 ,  28.3 ,  28.5 , 6.3 , 'Fe XV', 'Mg', '')\n",
      " ( 30.3783,  30.25,  30.5 , 4.7 , 'He II', 'H', '')\n",
      " ( 33.541 ,  33.49,  33.61, 6.43, 'Fe XVI', 'Na', '')\n",
      " ( 36.0758,  36.03,  36.15, 6.43, 'Fe XVI', 'Na', '')\n",
      " ( 36.8076,  36.75,  36.87, 5.99, 'Mg IX', 'Be', 'Fe VIII-XIV')\n",
      " ( 44.57  ,  44.53,  44.65, 6.44, 'S XIV', '', '')\n",
      " ( 46.5221,  46.47,  46.61, 5.71, 'Ne VII', 'Be', '')\n",
      " ( 49.9406,  49.89,  50.01, 6.29, 'Si XII', 'Li', '')\n",
      " ( 52.1   ,  52.03,  52.13, 6.28, 'Si XII', '', '')\n",
      " ( 52.5795,  52.53,  52.65, 4.92, 'O III', 'C', 'O II')\n",
      " ( 53.7   ,  53.65,  53.77, 3.84, 'He I', '', '')\n",
      " ( 55.437 ,  55.39,  55.51, 5.19, 'O IV', 'B', 'O IV')\n",
      " ( 56.787 ,  56.73,  56.85, 6.96, 'Fe XX', '', '')\n",
      " ( 58.4334,  58.39,  58.51, 4.16, 'He I', 'He', '')\n",
      " ( 59.224 ,  59.17,  59.31, 6.89, 'Fe XIX', '', '')\n",
      " ( 59.9598,  59.93,  60.05, 4.92, 'O III', 'C', '')\n",
      " ( 60.98  ,  60.93,  61.05, 6.1 , 'Mg X', '', '')\n",
      " ( 62.4943,  62.45,  62.57, 6.05, 'Mg X', 'Li', '')\n",
      " ( 62.973 ,  62.93,  63.05, 5.37, 'O V', 'Be', '')\n",
      " ( 71.8535,  71.81,  71.93, 4.48, 'O II', 'N', 'O II')\n",
      " ( 72.156 ,  72.11,  72.21, 6.96, 'Fe XX', '', '')\n",
      " ( 77.0409,  76.99,  77.11, 5.81, 'Ne VIII', 'Li', '')\n",
      " ( 79.0199,  78.97,  79.09, 5.19, 'O IV', 'B', 'O III, O IV')\n",
      " ( 83.55  ,  83.25,  83.61, 4.52, 'O II', 'O III', '')\n",
      " ( 94.97  ,  94.93,  95.05, 3.84, 'H I', 'H', '')\n",
      " ( 97.2537,  97.21,  97.31, 3.84, 'H I', 'H', '')\n",
      " ( 97.703 ,  97.65,  97.77, 4.84, 'C III', 'Be', '')\n",
      " (102.572 , 102.52, 102.64, 3.84, 'H I', 'H', '')\n",
      " (103.19  , 103.15, 103.25, 5.47, 'O VI', 'Li', '')]\n"
     ]
    }
   ],
   "source": [
    "print(flare_file1[1].data)"
   ]
  },
  {
   "cell_type": "code",
   "execution_count": 14,
   "id": "aa418357",
   "metadata": {},
   "outputs": [
    {
     "name": "stdout",
     "output_type": "stream",
     "text": [
      "('Fe XVIII')\n"
     ]
    }
   ],
   "source": [
    "#print(flare_file1[1].data[0])\n",
    "\n",
    "print(flare_file1[1].data[0][4:5])"
   ]
  },
  {
   "cell_type": "markdown",
   "id": "bfb213ea",
   "metadata": {},
   "source": [
    "## BandMeta data ##\n",
    "\n",
    "The BandsMeta data unit describes the extracted bands from the EVE spectrum that\n",
    "correspond to the 7 AIA spectral bands, two GOES - 14 bands, 4 extracted MEGS\n",
    "spectral bands corresponding to the ESP diodes, two very broad bands used for\n",
    "creating the Q EUV proxy, two MEGS - A broadbands representing each slit, and 3 MEGS -\n",
    "B bands. The BandsMeta data unit is described in the following table.\n",
    "\n",
    "| Column Name | Type | Description | \n",
    "| :- | -: | :-: |\n",
    "| Name | String | (AIA_304) |\n",
    "| Type | String | SDO instrument example (AIA) |\n",
    "| Low_Wavelength_nm | Float | 23.2650 |\n",
    "| High_Wavelength_nm | Float | 37.4450 |\n",
    "                "
   ]
  },
  {
   "cell_type": "code",
   "execution_count": 15,
   "id": "cc7b4f92",
   "metadata": {},
   "outputs": [
    {
     "name": "stdout",
     "output_type": "stream",
     "text": [
      "XTENSION= 'BINTABLE'           /Binary table written by MWRFITS v1.11           BITPIX  =                    8 /Required value                                  NAXIS   =                    2 /Required value                                  NAXIS1  =                   25 /Number of bytes per row                         NAXIS2  =                   20 /Number of rows                                  PCOUNT  =                    0 /Normally 0 (no varying arrays)                  GCOUNT  =                    1 /Required value                                  TFIELDS =                    4 /Number of columns in table                      COMMENT                                                                         COMMENT  *** End of mandatory fields ***                                        COMMENT                                                                         EXTNAME = 'BandsMeta'                                                           COMMENT                                                                         COMMENT  *** Column names ***                                                   COMMENT                                                                         TTYPE1  = 'NAME    '           /                                                TTYPE2  = 'TYPE    '           /                                                TTYPE3  = 'LOW_WAVELENGTH_NM'  /                                                TTYPE4  = 'HIGH_WAVELENGTH_NM' /                                                COMMENT                                                                         COMMENT  *** Column formats ***                                                 COMMENT                                                                         TFORM1  = '13A     '           /                                                TFORM2  = '4A      '           /                                                TFORM3  = 'E       '           /                                                TFORM4  = 'E       '           /                                                COMMENT  For every element in the BAND_* column in the LinesData table, there isCOMMENT  one row here describing the band.                                      COMMENT  name is the name of the band                                           COMMENT  type describes the source of the band weighting                        COMMENT    No matter the type, all irradiance data used here comes from MEGS A/BEND                                                                                                                                                                                                                                                                                                                                                                                                             \n"
     ]
    }
   ],
   "source": [
    "print(flare_file1[2].header)"
   ]
  },
  {
   "cell_type": "code",
   "execution_count": 16,
   "id": "53db3170",
   "metadata": {},
   "outputs": [
    {
     "name": "stdout",
     "output_type": "stream",
     "text": [
      "[('AIA_A94', 'AIA',  9.275,   9.515) ('AIA_A131', 'AIA', 12.595,  13.475)\n",
      " ('AIA_A171', 'AIA', 15.205,  18.965) ('AIA_A193', 'AIA', 17.715,  20.955)\n",
      " ('AIA_A211', 'AIA', 19.355,  22.755) ('AIA_A304', 'AIA', 23.265,  37.445)\n",
      " ('AIA_A335', 'AIA', 10.325,  35.865)\n",
      " ('GOES-14 EUV-A', 'GOES',  5.005,  14.995)\n",
      " ('GOES-14 EUV-B', 'GOES', 25.005,  33.995)\n",
      " ('MA171', 'ESP', 14.505,  22.195) ('MA257', 'ESP', 22.005,  29.195)\n",
      " ('MA304', 'ESP', 26.715,  33.785) ('MA366', 'ESP', 33.005,  38.995)\n",
      " ('E7-37', 'MEGS',  7.   ,  37.   ) ('E37-45', 'MEGS', 37.   ,  45.   )\n",
      " ('MEGS-A1', 'MEGS',  5.8  ,  17.24 ) ('MEGS-A2', 'MEGS', 17.24 ,  33.34 )\n",
      " ('MEGS-B short', 'MEGS', 33.34 ,  61.   )\n",
      " ('MEGS-B both', 'MEGS', 61.   ,  79.1  )\n",
      " ('MEGS-B long', 'MEGS', 79.1  , 107.   )]\n"
     ]
    }
   ],
   "source": [
    "print(flare_file1[2].data)"
   ]
  },
  {
   "cell_type": "markdown",
   "id": "c5da0b29",
   "metadata": {},
   "source": [
    "## DiodeMeta data ## \n",
    "\n",
    "The DiodeMeta data unit contains information about spectral bands derived from EVE\n",
    "level 2 spectra that corresponds to measurements made by EVE diodes from ESP and\n",
    "MEGS P. The diode measurements (ESP and MEGS - P) are averaged down to the 10 -\n",
    "second spectrum cadence from the 4 Hz measurements to create a more convenient\n",
    "way to compare the data to other measurements. The DiodeMeta data unit is described\n",
    "in the following table.\n",
    "\n",
    "| Column Name | Type | Description | \n",
    "| :- | -: | :-: |\n",
    "| Name | String | Name of band example (171) |\n",
    "| Type | String | SDO instrument example (ESP) |\n"
   ]
  },
  {
   "cell_type": "code",
   "execution_count": 17,
   "id": "65b61ae0",
   "metadata": {},
   "outputs": [
    {
     "name": "stdout",
     "output_type": "stream",
     "text": [
      "XTENSION= 'BINTABLE'           /Binary table written by MWRFITS v1.11           BITPIX  =                    8 /Required value                                  NAXIS   =                    2 /Required value                                  NAXIS1  =                   36 /Number of bytes per row                         NAXIS2  =                    6 /Number of rows                                  PCOUNT  =                    0 /Normally 0 (no varying arrays)                  GCOUNT  =                    1 /Required value                                  TFIELDS =                    3 /Number of columns in table                      COMMENT                                                                         COMMENT  *** End of mandatory fields ***                                        COMMENT                                                                         EXTNAME = 'DiodeMeta'                                                           COMMENT                                                                         COMMENT  *** Column names ***                                                   COMMENT                                                                         TTYPE1  = 'NAME    '           /                                                TTYPE2  = 'TYPE    '           /                                                TTYPE3  = 'UNITS   '           /                                                COMMENT                                                                         COMMENT  *** Column formats ***                                                 COMMENT                                                                         TFORM1  = '25A     '           /                                                TFORM2  = '6A      '           /                                                TFORM3  = '5A      '           /                                                COMMENT  For every element in the DIODE_* column in the LinesData table, there  COMMENT  is one row here describing the diode.                                  COMMENT  name is a designation for the diode bandpass                           COMMENT  type describes the source of the band                                  END                                                                                                                                                                                                                                                                                                                                                                                                                                                                                                                                                                                                                                                             \n"
     ]
    }
   ],
   "source": [
    "print(flare_file1[3].header)"
   ]
  },
  {
   "cell_type": "code",
   "execution_count": 18,
   "id": "2b00b254",
   "metadata": {},
   "outputs": [
    {
     "name": "stdout",
     "output_type": "stream",
     "text": [
      "[('Quad Diode (0.1-7.0nm)', 'ESP', 'W/m^2')\n",
      " ('Channel 8 (16.64-21.5nm)', 'ESP', 'W/m^2')\n",
      " ('Channel 2 (22.28-28.78nm)', 'ESP', 'W/m^2')\n",
      " ('Channel 9 (27.16-33.8nm)', 'ESP', 'W/m^2')\n",
      " ('Channel 1 (33.3-40.04nm)', 'ESP', 'W/m^2')\n",
      " ('Lyman-alpha (121-122nm)', 'MEGS-P', 'W/m^2')]\n"
     ]
    }
   ],
   "source": [
    "print(flare_file1[3].data)"
   ]
  },
  {
   "cell_type": "markdown",
   "id": "5cc835ee",
   "metadata": {},
   "source": [
    "## Quad diode ##\n",
    "\n",
    "The ESP central quad diode contains information about the center of brightness for\n",
    "the 0.1 - 7 nm bandpass. These are normalized to provide a relative measure of the\n",
    "distribution of irradiance. During flare periods, the difference of flare and pre - flare\n",
    "measurements indicate the flare position.\n",
    "\n",
    "| Column Name | Type | Description | \n",
    "| :- | -: | :-: |\n",
    "| Name | String | Name of band example (Q0) |\n",
    "| Type | String | SDO instrument example (ESP) |\n"
   ]
  },
  {
   "cell_type": "code",
   "execution_count": 19,
   "id": "636c68b5",
   "metadata": {},
   "outputs": [
    {
     "name": "stdout",
     "output_type": "stream",
     "text": [
      "XTENSION= 'BINTABLE'           /Binary table written by MWRFITS v1.11           BITPIX  =                    8 /Required value                                  NAXIS   =                    2 /Required value                                  NAXIS1  =                    5 /Number of bytes per row                         NAXIS2  =                    4 /Number of rows                                  PCOUNT  =                    0 /Normally 0 (no varying arrays)                  GCOUNT  =                    1 /Required value                                  TFIELDS =                    2 /Number of columns in table                      COMMENT                                                                         COMMENT  *** End of mandatory fields ***                                        COMMENT                                                                         EXTNAME = 'QuadMeta'                                                            COMMENT                                                                         COMMENT  *** Column names ***                                                   COMMENT                                                                         TTYPE1  = 'NAME    '           /                                                TTYPE2  = 'TYPE    '           /                                                COMMENT                                                                         COMMENT  *** Column formats ***                                                 COMMENT                                                                         TFORM1  = '2A      '           /                                                TFORM2  = '3A      '           /                                                COMMENT  For every element in the QUAD_* column in the LinesData table, there isCOMMENT  one row here describing the quadrant.                                  COMMENT  name is the name of the quadrant                                       COMMENT  type is the instrument channel (always ESP)                            END                                                                                                                                                                                                                                                                                                                                                                                                                                                                                                                                                                                                                                                                                                                                                                                                                             \n"
     ]
    }
   ],
   "source": [
    "print(flare_file1[4].header)"
   ]
  },
  {
   "cell_type": "code",
   "execution_count": 20,
   "id": "71edf3b2",
   "metadata": {},
   "outputs": [
    {
     "name": "stdout",
     "output_type": "stream",
     "text": [
      "[('Q0', 'ESP') ('Q1', 'ESP') ('Q2', 'ESP') ('Q3', 'ESP')]\n"
     ]
    }
   ],
   "source": [
    "print(flare_file1[4].data)"
   ]
  },
  {
   "cell_type": "markdown",
   "id": "32098588",
   "metadata": {},
   "source": [
    "## LinesDataUnits ##\n",
    "\n",
    "The LinesDataUnits data unit contains unit information for corresponding entries in\n",
    "the LinesData data unit. The contents of the data unit are described in the table\n",
    "below.\n",
    "\n",
    "| Column Name | Type | Description | \n",
    "| :- | -: | :-: |\n",
    "| TAI | String | seconds // International Atomic Time seconds since Jan 1, 1958 at center of integration |\n",
    "| YYYYDOY | String | NA // 4 - digit year and 3 - digit day of year designator with Jan 1=001 |\n",
    "| SOD | String | seconds // seconds of the UT day at the center of the integration |\n",
    "| FLAGS | String | NA // 0=good, other values indicate data may be suspect |\n",
    "| SC_FLAGS | String | NA // 0=good, other value indicate spacecraft events like eclipses, lunar |\n",
    "| Line_Irradiance | String | W m^ - 2 // Power per unit area at 1 - AU over the integrated line with no background subtraction |\n",
    "| Line_Precision | String | NA // relative precision |\n",
    "| Line_Accuracy | String | NA // relative accuracy |\n",
    "| Band_Irradiance | String | Mixed: W m^ - 2 or avg counts AIApixel^ - 1 second^ - 1 // Power per unit area at 1 - AU over the integrated band |\n",
    "| Band_Precision | String | NA // relative precision |\n",
    "| Band_Accuracy | String | NA // relative accuracy |\n",
    "| Diode_Irradiance | String | W m^ - 2 // Power per unit area at 1 - AU measured by the diode |\n",
    "| Diode_Stdev | String | NA // relative one - sigma spread of 4 hz integrations over the 10 second window |\n",
    "| Diode_Precision | String | NA // relative precision |\n",
    "| Diode_Accuracy | String | Relative accuracy of diode measurements |\n",
    "| Quad_Fraction | String | NA // fraction of the 0.1 - 7 nm irradiance in each of the quadrant diodes with the sum=1., useful for finding location of center of irradiance |\n",
    "| Quad_Stdev | String | NA // relative one - sigma spread of 4 Hz integrations over the 10 second window |\n",
    "| Quad_Precision | String | Relative precision of quadrant diode measurements |\n",
    "| Quad_Accuracy | String | Relative accuracy of quadrant diode measurements |\n"
   ]
  },
  {
   "cell_type": "code",
   "execution_count": 21,
   "id": "a3447696",
   "metadata": {},
   "outputs": [
    {
     "name": "stdout",
     "output_type": "stream",
     "text": [
      "XTENSION= 'BINTABLE'           /Binary table written by MWRFITS v1.11           BITPIX  =                    8 /Required value                                  NAXIS   =                    2 /Required value                                  NAXIS1  =                  890 /Number of bytes per row                         NAXIS2  =                  360 /Number of rows                                  PCOUNT  =                    0 /Normally 0 (no varying arrays)                  GCOUNT  =                    1 /Required value                                  TFIELDS =                   19 /Number of columns in table                      COMMENT                                                                         COMMENT  *** End of mandatory fields ***                                        COMMENT                                                                         ORIGIN  = '            SDO/EVE SPOC' // LASP, University of Colorado, Boulder   DATE    = '2021-08-18T15:06:07.000Z' // UTC file creation time (per ISO8601)    TAI_OBS =            1747184434.279 // TAI time at start of obs                 DATE_OBS= '2013-05-14T00:59:59.279Z' // UTC at start of obs                     T_OBS   = '2013-05-14T01:00:04.279Z' // UTC at center of obs                    EXPTIME =                    10.000 // seconds exposed, or integration time     TIME    =                  3599.279 // UTC seconds of day at start of obs       TELESCOP= '            SDO/EVE'                                                 INSTRUME= '        EVE_MEGS'                                                    VERSION =                        07 // major code/cal version                   REVISION=                        01 // reprocess number                         FILENAME= 'EVL_L2_2013134_01_007_01.fit'                                        COMMENT                                                                         COMMENT  *** Column names ***                                                   COMMENT                                                                         TTYPE1  = 'TAI     '           /                                                TTYPE2  = 'YYYYDOY '           /                                                TTYPE3  = 'SOD     '           /                                                TTYPE4  = 'FLAGS   '           /                                                TTYPE5  = 'SC_FLAGS'           /                                                TTYPE6  = 'LINE_IRRADIANCE'    /                                                TTYPE7  = 'LINE_PRECISION'     /                                                TTYPE8  = 'LINE_ACCURACY'      /                                                TTYPE9  = 'BAND_IRRADIANCE'    /                                                TTYPE10 = 'BAND_PRECISION'     /                                                TTYPE11 = 'BAND_ACCURACY'      /                                                TTYPE12 = 'DIODE_IRRADIANCE'   /                                                TTYPE13 = 'DIODE_STDEV'        /                                                TTYPE14 = 'DIODE_PRECISION'    /                                                TTYPE15 = 'DIODE_ACCURACY'     /                                                TTYPE16 = 'QUAD_FRACTION'      /                                                TTYPE17 = 'QUAD_STDEV'         /                                                TTYPE18 = 'QUAD_PRECISION'     /                                                TTYPE19 = 'QUAD_ACCURACY'      /                                                COMMENT                                                                         COMMENT  *** Column formats ***                                                 COMMENT                                                                         TFORM1  = 'D       '           /                                                TFORM2  = 'J       '           /                                                TFORM3  = 'D       '           /                                                TFORM4  = 'B       '           /                                                TFORM5  = 'B       '           /                                                TFORM6  = '39E     '           /                                                TFORM7  = '39E     '           /                                                TFORM8  = '39E     '           /                                                TFORM9  = '20E     '           /                                                TFORM10 = '20E     '           /                                                TFORM11 = '20E     '           /                                                TFORM12 = '6E      '           /                                                TFORM13 = '6E      '           /                                                TFORM14 = '6E      '           /                                                TFORM15 = '6E      '           /                                                TFORM16 = '4E      '           /                                                TFORM17 = '4E      '           /                                                TFORM18 = '4E      '           /                                                TFORM19 = '4E      '           /                                                COMMENT Website reference http://lasp.colorado.edu/home/eve                     COMMENT EVE Principal Investigator T. N. Woods                                  COMMENT Laboratory for Atmospheric and Space Physics                            COMMENT 1234 Innovation Drive, Boulder, CO 80303                                COMMENT SDO Mission scientific and model results are open to all.               COMMENT Users should contact the PI or designated EVE team member early in an   COMMENT analysis project to discuss appropriate use of instrument data results. COMMENT Appropriate acknowledgement to institutions, personnel, and funding     COMMENT agencies should be given. Version numbers should also be specified.     COMMENT Pre-prints of publications and conference abstracts should be widely    COMMENT distributed to interested parties within the mission.                   EXTNAME = 'LinesData'                                                           TUNIT6  = 'W m^-2' /Units of Lines Irradiance field                             TUNIT12 = 'W m^-2' /Units of Diode Irradiance field                             COMMENT  Values in FLAGS field are the bitwise OR of these values.              COMMENT  Bit 0 (value    1) - MEGS-A data is missing                            COMMENT  Bit 1 (value    2) - MEGS-B data is missing                            COMMENT  Bit 2 (value    4) - ESP data is missing                               COMMENT  Bit 3 (value    8) - MEGS-P data is missing                            COMMENT  Bit 4 (value   16) - Possible clock adjust in MEGS-A                   COMMENT  Bit 5 (value   32) - Possible clock adjust in MEGS-B                   COMMENT  Bit 6 (value   64) - Possible clock adjust in ESP                      COMMENT  Bit 7 (value  128) - Possible clock adjust in MEGS-P                   COMMENT  Values in SC_FLAGS field are the bitwise OR of these values.           COMMENT  Bit 0 (value    1) - 4-bit obstruction indicator (0 is no obstruction) COMMENT  Bit 1 (value    2) - 4-bit obstruction indicator (0 is no obstruction) COMMENT  Bit 2 (value    4) - 4-bit obstruction indicator (0 is no obstruction) COMMENT  Bit 3 (value    8) - 4-bit obstruction indicator (0 is no obstruction) COMMENT  Bit 4 (value   16) - Observatory is off-pointed by more than 1 arcmin  COMMENT  Obstruction flag values:                                               COMMENT  Value 0 No obstruction                                                 COMMENT  Value 1 Warmup from Earth eclipse                                      COMMENT  Value 2 Atmosphere penumbra                                            COMMENT  Value 3 Atmosphere umbra                                               COMMENT  Value 4 Penumbra of Mercury                                            COMMENT  Value 5 Umbra of Mercury                                               COMMENT  Value 6 Penumbra of Venus                                              COMMENT  Value 7 Umbra of Venus                                                 COMMENT  Value 8 Penumbra of Moon                                               COMMENT  Value 9 Umbra of Moon                                                  COMMENT  Value 10 Penumbra of solid Earth                                       COMMENT  Value 11 Umbra of solid Earth                                          COMMENT  If more than one obstruction is taking place, only                     COMMENT    the highest-numbered one will be indicated.                          COMMENT  Uncertainties (precision, accuracy and standard deviation)             COMMENT    are relative, (0.1=10% uncertainty) multiply by corresponding        COMMENT    irradiance to get uncertainty in physical irradiance units           END                                                                                                                                                                                                                                                                                                                                                                                                                                                                                                                                                                                                                                                                                                                                                                                                                                                                                                                                                                                                                                                                                                                                                                                                                                                                                                                                                                                                                                                                                                                                                                                                                                                                                                                                                                                                                                                                                                                                                                                                                                                                                                                                                                                                                                                                                                                                                                                                                                                                                             \n"
     ]
    }
   ],
   "source": [
    "print(flare_file1[5].header)"
   ]
  },
  {
   "cell_type": "code",
   "execution_count": 22,
   "id": "64623b4a",
   "metadata": {},
   "outputs": [
    {
     "name": "stdout",
     "output_type": "stream",
     "text": [
      "W m^-2\n"
     ]
    }
   ],
   "source": [
    "print(flare_file1[5].header[80])"
   ]
  },
  {
   "cell_type": "code",
   "execution_count": 23,
   "id": "49aafbb8",
   "metadata": {},
   "outputs": [
    {
     "data": {
      "text/plain": [
       "360"
      ]
     },
     "execution_count": 23,
     "metadata": {},
     "output_type": "execute_result"
    }
   ],
   "source": [
    "len(flare_file1[5].data)"
   ]
  },
  {
   "cell_type": "code",
   "execution_count": 24,
   "id": "1781b7a3",
   "metadata": {},
   "outputs": [
    {
     "data": {
      "text/plain": [
       "astropy.io.fits.fitsrec.FITS_rec"
      ]
     },
     "execution_count": 24,
     "metadata": {},
     "output_type": "execute_result"
    }
   ],
   "source": [
    "type(flare_file1[5].data)"
   ]
  },
  {
   "cell_type": "markdown",
   "id": "f5ff303e",
   "metadata": {},
   "source": [
    "## LinesData ##\n",
    "The LinesData data unit contains the actual science measurements for the\n",
    "observation period for lines, bands and diodes. The diode measurements are\n",
    "averaged to 10 seconds to provide measurements at the same cadence as the line\n",
    "and band measurements.\n",
    "\n",
    "\n",
    "| Column Name | Type | Description | \n",
    "| :- | -: | :-: |\n",
    "| TAI | Double | International Atomic Time of center of observation |\n",
    "| YYYYDOY | Long | Year and day of year of observation |\n",
    "| SOD | Double | Seconds of day of the center of observation |\n",
    "| FLAGS | Byte | EVE specific flags |\n",
    "| SC_FLAGS | Byte | SDO specific flags |\n",
    "| Line_Irradiance | String | An array of irradiance values. One value per line |\n",
    "| Line_Precision | String | An array of precision values. One value per line |\n",
    "| Line_Accuracy | String | An array of accuracy values. One value per line |\n",
    "| Band_Irradiance | String | An array of irradiance values. One value per band |\n",
    "| Band_Precision | String | An array of precision values. One value per band |\n",
    "| Band_Accuracy | String | An array of accuracy values. One value per band |\n",
    "| Diode_Irradiance | String | An array of irradiance values. One value per diode |\n",
    "| Diode_Stdev | String | An array of standard deviation values. One value per diode |\n",
    "| Diode_Precision | String | An array of precision values. One value per diode |\n",
    "| Diode_Accuracy | String | An array of accuracy values. One value per diode |\n",
    "| Quad_Fraction | String | The fractional amount of the diode per total of all quad diodes |\n",
    "| Quad_Stdev | String | The standard deviation of the observations for the diode |\n",
    "| Quad_Precision | String | The precision of the observations for the diode |\n",
    "| Quad_Accuracy | String | The accuracy of the observations for the diode |\n",
    "\n",
    "## Flags ##\n",
    "\n",
    "There are two sets of flags included. One is EVE specific flags, and the other is Spacecraft flags. Generally, any flags being set mean some data are missing or possibly suspect. The following tables describe the values for each bit in the flag. Values in the FLAGS field are the bitwise OR of these values.\n",
    "\n",
    "## EVE specific flags ##\n",
    "\n",
    "Values in the FLAGS field are the bitwise OR of these values.\n",
    "\n",
    "| Column Name | Type | Description | \n",
    "| :- | -: | :-: |\n",
    "| Bit 1 (Value 1) | MEGS - A data is missing |\n",
    "| Bit 2 (Value 2) | MEGS - B data is missing |\n",
    "| Bit 3 (Value 4) | ESP data is missing |\n",
    "| Bit 4 (Value 8) | MEGS - P data is missing |\n",
    "| Bit 5 (Value 16) | Possibile clock adjustment in MEGS - A |\n",
    "| Bit 6 (Value 32) | Possibile clock adjustment in MEGS - B |\n",
    "| Bit 7 (Value 64) | Possibile clock adjustment in ESP |\n",
    "| Bit 8 (Value 128) | Possibile clock adjustment in MEGS - P |\n",
    "\n",
    "\n",
    "## Spacecraft flags ##\n",
    "\n",
    "Values in the SC_FLAGS field are the bitwise OR of these values.\n",
    "\n",
    "More information on flasgs is available at \\\n",
    "link: https://lasp.colorado.edu/eve/data_access/eve_data/products/level2/EVE_L2_V8_README.pdf"
   ]
  },
  {
   "cell_type": "code",
   "execution_count": 25,
   "id": "04a96ac3",
   "metadata": {},
   "outputs": [
    {
     "name": "stdout",
     "output_type": "stream",
     "text": [
      "XTENSION= 'BINTABLE'           /Binary table written by MWRFITS v1.11           BITPIX  =                    8 /Required value                                  NAXIS   =                    2 /Required value                                  NAXIS1  =                 1373 /Number of bytes per row                         NAXIS2  =                    1 /Number of rows                                  PCOUNT  =                    0 /Normally 0 (no varying arrays)                  GCOUNT  =                    1 /Required value                                  TFIELDS =                   19 /Number of columns in table                      COMMENT                                                                         COMMENT  *** End of mandatory fields ***                                        COMMENT                                                                         EXTNAME = 'LinesDataUnits'                                                      COMMENT                                                                         COMMENT  *** Column names ***                                                   COMMENT                                                                         TTYPE1  = 'TAI     '           /                                                TTYPE2  = 'YYYYDOY '           /                                                TTYPE3  = 'SOD     '           /                                                TTYPE4  = 'FLAGS   '           /                                                TTYPE5  = 'SC_FLAGS'           /                                                TTYPE6  = 'LINE_IRRADIANCE'    /                                                TTYPE7  = 'LINE_PRECISION'     /                                                TTYPE8  = 'LINE_ACCURACY'      /                                                TTYPE9  = 'BAND_IRRADIANCE'    /                                                TTYPE10 = 'BAND_PRECISION'     /                                                TTYPE11 = 'BAND_ACCURACY'      /                                                TTYPE12 = 'DIODE_IRRADIANCE'   /                                                TTYPE13 = 'DIODE_STDEV'        /                                                TTYPE14 = 'DIODE_PRECISION'    /                                                TTYPE15 = 'DIODE_ACCURACY'     /                                                TTYPE16 = 'QUAD_FRACTION'      /                                                TTYPE17 = 'QUAD_STDEV'         /                                                TTYPE18 = 'QUAD_PRECISION'     /                                                TTYPE19 = 'QUAD_ACCURACY'      /                                                COMMENT                                                                         COMMENT  *** Column formats ***                                                 COMMENT                                                                         TFORM1  = '87A     '           /                                                TFORM2  = '62A     '           /                                                TFORM3  = '65A     '           /                                                TFORM4  = '49A     '           /                                                TFORM5  = '81A     '           /                                                TFORM6  = '171A    '           /                                                TFORM7  = '18A     '           /                                                TFORM8  = '17A     '           /                                                TFORM9  = '242A    '           /                                                TFORM10 = '18A     '           /                                                TFORM11 = '17A     '           /                                                TFORM12 = '59A     '           /                                                TFORM13 = '72A     '           /                                                TFORM14 = '18A     '           /                                                TFORM15 = '66A     '           /                                                TFORM16 = '135A    '           /                                                TFORM17 = '72A     '           /                                                TFORM18 = '49A     '           /                                                TFORM19 = '75A     '           /                                                COMMENT  First element is unit                                                  COMMENT  Other elements are brief descriptions and other info                   END                                                                                                                                                                                                                                                                                                                                                                                                                                                                                                                                                                                                                                                                                                                                                                                                                                                                                                                                                                                                                                                                                                                                                             \n"
     ]
    }
   ],
   "source": [
    "print(flare_file1[6].header)"
   ]
  },
  {
   "cell_type": "code",
   "execution_count": 26,
   "id": "622df055",
   "metadata": {},
   "outputs": [
    {
     "name": "stdout",
     "output_type": "stream",
     "text": [
      "[('seconds // International Atomic Time seconds since Jan 1, 1958 at center of integration', '4-digit year and 3-digit day of year designator with Jan 1=001', 'seconds // seconds of the UT day at the center of the integration', '0=good, other values indicate data may be suspect', '0=good, other value indicate spacecraft events like eclipses, lunar transits, etc', 'W m^-2 // Power per unit area at 1-AU over the integrated line with no background subtraction, MEGS-A provides the spectrum shorter than 37 nm and MEGS-B longer than 37 nm', 'Relative precision', 'Relative accuracy', 'Mixed: W m^-2 or avg counts AIApixel^-1 second^-1 // Power per unit area at 1-AU over the integrated band with MEGS-A providing the spectrum shorter than 37 nm and MEGS-B longer than 37 nm, note that AIA bands are counts per AIA pixel at 1-AU', 'Relative precision', 'Relative accuracy', 'W m^-2 // Power per unit area at 1-AU measured by the diode', 'Relative one-sigma spread of 4 hz integrations over the 10 second window', 'Relative precision', 'Relative accuracy of diode measurements used to create the average', 'Fraction of the 0.1-7 nm irradiance in each of the quadrant diodes with the sum=1., useful for finding location of center of irradiance', 'Relative one-sigma spread of 4 Hz integrations over the 10 second window', 'Relative precision of quadrant diode measurements', 'Relative accuracy of quadrant diode measurements used to create the average')]\n"
     ]
    }
   ],
   "source": [
    "print(flare_file1[6].data)"
   ]
  },
  {
   "cell_type": "code",
   "execution_count": 27,
   "id": "58c1a0f2",
   "metadata": {},
   "outputs": [],
   "source": [
    "meta = flare_file1[5].data\n",
    "#meta"
   ]
  },
  {
   "cell_type": "code",
   "execution_count": 28,
   "id": "67534f54",
   "metadata": {},
   "outputs": [
    {
     "data": {
      "text/plain": [
       "(360, 20)"
      ]
     },
     "execution_count": 28,
     "metadata": {},
     "output_type": "execute_result"
    }
   ],
   "source": [
    "line_data = meta.field(8)\n",
    "line_data.shape"
   ]
  },
  {
   "cell_type": "code",
   "execution_count": 29,
   "id": "73c8ba1e",
   "metadata": {},
   "outputs": [
    {
     "data": {
      "text/plain": [
       "360"
      ]
     },
     "execution_count": 29,
     "metadata": {},
     "output_type": "execute_result"
    }
   ],
   "source": [
    "# This is 0th line with 1 hour evolution\n",
    "len(line_data[:,0])"
   ]
  },
  {
   "cell_type": "code",
   "execution_count": 30,
   "id": "ba33981f",
   "metadata": {},
   "outputs": [
    {
     "data": {
      "text/plain": [
       "360"
      ]
     },
     "execution_count": 30,
     "metadata": {},
     "output_type": "execute_result"
    }
   ],
   "source": [
    "# this is SOD from header 5\n",
    "obs_time = meta.field(2)\n",
    "len(obs_time)\n",
    "#obs_time/3600.0\n"
   ]
  },
  {
   "cell_type": "code",
   "execution_count": 31,
   "id": "508d77d4",
   "metadata": {},
   "outputs": [
    {
     "data": {
      "text/plain": [
       "(np.float32(9.3926), np.float32(9.33), np.float32(9.43), np.float32(6.81), 'Fe XVIII', 'F', '')"
      ]
     },
     "execution_count": 31,
     "metadata": {},
     "output_type": "execute_result"
    }
   ],
   "source": [
    "# get the name of the spectral line to be plotted\n",
    "line_name = flare_file1[1].data[0]\n",
    "#line_name = flare_file1[1].data[0][4:5]\n",
    "line_name\n"
   ]
  },
  {
   "cell_type": "code",
   "execution_count": 32,
   "id": "2b3ebc47",
   "metadata": {},
   "outputs": [
    {
     "name": "stderr",
     "output_type": "stream",
     "text": [
      "<>:7: SyntaxWarning: invalid escape sequence '\\A'\n",
      "<>:7: SyntaxWarning: invalid escape sequence '\\A'\n",
      "/var/folders/g9/w6z321fx25s_jyvjvcjz53480000gn/T/ipykernel_18430/239570090.py:7: SyntaxWarning: invalid escape sequence '\\A'\n",
      "  plt.title('14-May-2013 X3.2: Fe XVIII 93.92 $\\AA$')\n"
     ]
    },
    {
     "data": {
      "image/png": "[encoded data removed]",
      "text/plain": [
       "<Figure size 1500x500 with 1 Axes>"
      ]
     },
     "metadata": {},
     "output_type": "display_data"
    }
   ],
   "source": [
    "# change the size of the plot\n",
    "plt.rcParams[\"figure.figsize\"] = (15,5)\n",
    "\n",
    "plt.plot(obs_time/3600.0, line_data[:,0])\n",
    "plt.xlabel('Time (UT)')\n",
    "plt.ylabel('Intensity (W / m^2)')\n",
    "plt.title('14-May-2013 X3.2: Fe XVIII 93.92 $\\AA$')\n",
    "plt.show()"
   ]
  },
  {
   "cell_type": "code",
   "execution_count": null,
   "id": "32943e5a",
   "metadata": {},
   "outputs": [],
   "source": []
  }
 ],
 "metadata": {
  "kernelspec": {
   "display_name": "solar",
   "language": "python",
   "name": "python3"
  },
  "language_info": {
   "codemirror_mode": {
    "name": "ipython",
    "version": 3
   },
   "file_extension": ".py",
   "mimetype": "text/x-python",
   "name": "python",
   "nbconvert_exporter": "python",
   "pygments_lexer": "ipython3",
   "version": "3.12.7"
  }
 },
 "nbformat": 4,
 "nbformat_minor": 5
}
