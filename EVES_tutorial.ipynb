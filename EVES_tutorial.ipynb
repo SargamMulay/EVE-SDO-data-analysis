{
 "cells": [
  {
   "cell_type": "markdown",
   "id": "d1fc29e0",
   "metadata": {},
   "source": [
    "# **Solar ultraviolet spectroscopy** #\n",
    "\n",
    "This tutorial includes information on ultraviolet spectroscopic observations of solar flares and provides guidance on how to analyze flare data using Python programming.\n",
    "\n",
    "We will be using ultravoilet spectroscopic observation of a solar flare from the Extreme Ultraviolet Variability Experiment (EVE) instrument on board the Solar Dynamics Observatory (SDO) observatory. Since 2010, EVE has been observing the Sun and produce a spectrum in the wavelength range of 0.1 to 105 nm. It provides data with a time resolution of 10 seconds in \"Sun as a star\" mode and does not offer image resolution.\n",
    "\n",
    "The EVE instrument employs two grating spectrographs: MEGS-A for short wavelengths (5-37 nm) and MEGS-B for longer wavelengths (35-105 nm). Each spectrograph images the wavelength-dispersed whole solar disk onto a CCD.\n",
    "\n",
    "### **EVE instrument:** ### \n",
    "link - https://lasp.colorado.edu/home/missions-projects/quick-facts-sdo-eve/ \\\n",
    "link - https://lasp.colorado.edu/home/eve/ \n",
    "\n",
    "### **Level 2 Science Products** ###\n",
    "\n",
    "The EVE Level 2 products are stored in the scientific format called FITS as binary tables.\n",
    "\n",
    "Two types of EVE level 2 products are routinely created: Spectra (EVS) and Lines (EVL).\n",
    "\n",
    "Level 2 spectra are the merged spectral measurements from the two spectrographs, MEGS\n",
    "A and B. \\\n",
    "The A detector is designed to measure from 6 - 17 nm, and 17 - 37 nm using two filters, while \\\n",
    "the B detector is designed to measure 37 - 106 nm. \\\n",
    "Level 2 processing stitches these pieces to form one spectrum. \\\n",
    "All level 2 irradiances are adjusted to 1 AU. \n",
    "\n",
    "Level 2 line files contain selected lines derived from the level 2 spectra, ESP diode values and bands that correspond to other SDO instruments and some derived proxies.\n",
    "\n",
    "### **Naming Convention** ###\n",
    "\n",
    "Level 2 products follow this naming convention: \\\n",
    "EV?_L2_YYYYDDD_HH_vvv_rr.fit where: \\\n",
    "EV designates this as an EVE product \\\n",
    "? is either S (spectrum) or L (lines/bands) \\\n",
    "L2 designates this as a level 2 product YYYY is the year \\\n",
    "DDD is the day of year (001 - 366) \\\n",
    "HH is the UT hour of day (00 - 23) \\\n",
    "vvv is the version number (007) \\\n",
    "rr is the revision number (01 - 99) \n",
    "        \n",
    "### **Science data access** ### \n",
    "link: https://lasp.colorado.edu/eve/data_access/index.html\n",
    "\n",
    "\n",
    "### **EVE level 2 data download** ###\n",
    "link: https://lasp.colorado.edu/eve/data_access/eve_data/misc/eve_calendars/calendar_level2_2018.html\n",
    "\n",
    "### **EVE documentation** ###\n",
    "link: https://lasp.colorado.edu/eve/data_access/eve-documentation/index.html  \n",
    "\n",
    "### **Full documentation for the flare catalog** ###\n",
    "link: https://lasp.colorado.edu/eve/data_access/eve-flare-catalog/index.html \\\n",
    "link: https://lasp.colorado.edu/eve/data_access/eve_data/Flare_Catalog/eve_flare_catalog.pdf"
   ]
  },
  {
   "cell_type": "code",
   "execution_count": 1,
   "id": "e3b7b4e2",
   "metadata": {},
   "outputs": [],
   "source": [
    "### Importing relevant modules\n",
    "\n",
    "import numpy as np\n",
    "\n",
    "from astropy.io import fits\n",
    "import astropy.units as u\n",
    "\n",
    "import matplotlib.pyplot as plt\n",
    "from matplotlib import gridspec\n",
    "import matplotlib.ticker as ticker\n",
    "%matplotlib inline\n",
    "from matplotlib.ticker import AutoMinorLocator\n",
    "\n",
    "from scipy import stats\n",
    "import scipy as scipy\n",
    "from scipy import optimize\n",
    "from scipy.optimize import curve_fit\n",
    "\n",
    "# you need to install lmfit package - conda install -c conda-forge lmfit\n",
    "#from lmfit import Model, Parameters\n",
    "import matplotlib.ticker as tck\n",
    "\n",
    "# set the font globally\n",
    "# plt.rcParams.update({'font.family':'sans-serif'})\n",
    "\n",
    "# set the font name for a font family\n",
    "# plt.rcParams.update({'font.sans-serif':'Helvetica'})\n",
    "\n",
    "from datetime import timedelta\n"
   ]
  },
  {
   "cell_type": "code",
   "execution_count": 2,
   "id": "e9120465",
   "metadata": {},
   "outputs": [
    {
     "data": {
      "text/plain": [
       "[<astropy.io.fits.hdu.image.PrimaryHDU object at 0x15503ae40>, <astropy.io.fits.hdu.table.BinTableHDU object at 0x1055ba8a0>, <astropy.io.fits.hdu.table.BinTableHDU object at 0x15506d9a0>, <astropy.io.fits.hdu.table.BinTableHDU object at 0x15506f3b0>]"
      ]
     },
     "execution_count": 2,
     "metadata": {},
     "output_type": "execute_result"
    }
   ],
   "source": [
    "# locate the file path where EVE spectrum data is available\n",
    "# summarizes the content of the opened FITS file\n",
    "\n",
    "#eves_flare_file1 = fits.open('/data/p010/EVS/2011/EVS_L2_2011227_18_007_01.fit.gz')\n",
    "eves_flare_file1 = fits.open('/Users/sargammulay/Desktop/python/EVE_puthon_tutorial/EVS_L2_2013134_01_007_01.fit.gz')\n",
    "\n",
    "eves_flare_file1\n",
    "\n",
    "# HDUList - https://docs.astropy.org/en/stable/io/fits/api/hdulists.html#astropy.io.fits.HDUList\n",
    "\n",
    "# The open function returns an object called an HDUList which is a list-like collection of HDU objects. \n",
    "# An HDU (Header Data Unit) is the highest level component of the FITS file structure, consisting of a header \n",
    "# and (typically) a data array or table.\n",
    "\n",
    "# hdul[0] is the primary HDU, hdul[1] is the first extension HDU, etc.\n",
    "# It should be noted that astropy uses zero-based indexing when referring to HDUs and header cards, \n",
    "# though the FITS standard.\n"
   ]
  },
  {
   "cell_type": "code",
   "execution_count": 3,
   "id": "f3266590",
   "metadata": {},
   "outputs": [
    {
     "data": {
      "text/plain": [
       "<function HDUList.index(value, start=0, stop=9223372036854775807, /)>"
      ]
     },
     "execution_count": 3,
     "metadata": {},
     "output_type": "execute_result"
    }
   ],
   "source": [
    "# Index of HDU for which info is to be returned.\n",
    "\n",
    "eves_flare_file1.index\n"
   ]
  },
  {
   "cell_type": "code",
   "execution_count": 4,
   "id": "5d2c221c",
   "metadata": {},
   "outputs": [
    {
     "name": "stdout",
     "output_type": "stream",
     "text": [
      "Filename: /Users/sargammulay/Desktop/python/EVE_puthon_tutorial/EVS_L2_2013134_01_007_01.fit.gz\n",
      "No.    Name      Ver    Type      Cards   Dimensions   Format\n",
      "  0  PRIMARY       1 PrimaryHDU       4   ()      \n",
      "  1  SpectrumMeta    1 BinTableHDU     29   5200R x 2C   [E, E]   \n",
      "  2  SpectrumUnits    1 BinTableHDU     40   1R x 10C   [87A, 68A, 65A, 55A, 87A, 39A, 149A, 61A, 122A, 53A]   \n",
      "  3  Spectrum      1 BinTableHDU     92   360R x 10C   [D, J, D, B, B, D, 5200E, 5200E, 5200E, 5200B]   \n"
     ]
    }
   ],
   "source": [
    "# Returns a dictionary detailing information about the locations of the indexed HDU within any associated file.\n",
    "# read the header of the file\n",
    "eves_flare_file1.info()"
   ]
  },
  {
   "cell_type": "markdown",
   "id": "2be50e8d",
   "metadata": {},
   "source": [
    "### **Level 2 Spectra Products** ###\n",
    "\n",
    "The level 2 spectrum files contain 3 header data units, \\\n",
    "SpectrumMeta, SpectrumUnits and Spectrum. \n",
    "\n",
    "These data units contain the fully calibrated 10-second spectral irradiance values along with supplemental information.\n"
   ]
  },
  {
   "cell_type": "code",
   "execution_count": 5,
   "id": "9af56cac",
   "metadata": {},
   "outputs": [
    {
     "data": {
      "text/plain": [
       "[<astropy.io.fits.hdu.image.PrimaryHDU object at 0x15503ae40>, <astropy.io.fits.hdu.table.BinTableHDU object at 0x1055ba8a0>, <astropy.io.fits.hdu.table.BinTableHDU object at 0x15506d9a0>, <astropy.io.fits.hdu.table.BinTableHDU object at 0x15506f3b0>]"
      ]
     },
     "execution_count": 5,
     "metadata": {},
     "output_type": "execute_result"
    }
   ],
   "source": [
    "eves_flare_file1"
   ]
  },
  {
   "cell_type": "code",
   "execution_count": 6,
   "id": "cba90805",
   "metadata": {},
   "outputs": [
    {
     "data": {
      "text/plain": [
       "XTENSION= 'BINTABLE'           /Binary table written by MWRFITS v1.11           \n",
       "BITPIX  =                    8 /Required value                                  \n",
       "NAXIS   =                    2 /Required value                                  \n",
       "NAXIS1  =                    8 /Number of bytes per row                         \n",
       "NAXIS2  =                 5200 /Number of rows                                  \n",
       "PCOUNT  =                    0 /Normally 0 (no varying arrays)                  \n",
       "GCOUNT  =                    1 /Required value                                  \n",
       "TFIELDS =                    2 /Number of columns in table                      \n",
       "COMMENT                                                                         \n",
       "COMMENT  *** End of mandatory fields ***                                        \n",
       "COMMENT                                                                         \n",
       "EXTNAME = 'SpectrumMeta'                                                        \n",
       "TUNIT1  = 'nm'                                                                  \n",
       "COMMENT                                                                         \n",
       "COMMENT  *** Column names ***                                                   \n",
       "COMMENT                                                                         \n",
       "TTYPE1  = 'WAVELENGTH'         /                                                \n",
       "TTYPE2  = 'ACCURACY'           /                                                \n",
       "COMMENT                                                                         \n",
       "COMMENT  *** Column formats ***                                                 \n",
       "COMMENT                                                                         \n",
       "TFORM1  = 'E       '           /                                                \n",
       "TFORM2  = 'E       '           /                                                \n",
       "COMMENT  Wavelength (nm) is the center value of each bin of sp_irradiance       \n",
       "COMMENT    in the Data table                                                    \n",
       "COMMENT  Accuracy is the relative accuracy of the entire MEGS measurement at    \n",
       "COMMENT    each wavelength.                                                     \n",
       "COMMENT  Precision is the relative precision of the entire MEGS measurement at  \n",
       "COMMENT    each wavelength.                                                     "
      ]
     },
     "execution_count": 6,
     "metadata": {},
     "output_type": "execute_result"
    }
   ],
   "source": [
    "eves_flare_file1[1].header"
   ]
  },
  {
   "cell_type": "code",
   "execution_count": 7,
   "id": "7009939e",
   "metadata": {},
   "outputs": [
    {
     "name": "stdout",
     "output_type": "stream",
     "text": [
      "<class 'astropy.io.fits.header.Header'>\n"
     ]
    }
   ],
   "source": [
    "print(type(eves_flare_file1[0].header))"
   ]
  },
  {
   "cell_type": "code",
   "execution_count": 8,
   "id": "4276458d",
   "metadata": {},
   "outputs": [
    {
     "data": {
      "text/plain": [
       "SIMPLE  =                    T /Dummy Created by MWRFITS v1.11                  \n",
       "BITPIX  =                    8 /Dummy primary header created by MWRFITS         \n",
       "NAXIS   =                    0 /No data is associated with this header          \n",
       "EXTEND  =                    T /Extensions may (will!) be present               "
      ]
     },
     "execution_count": 8,
     "metadata": {},
     "output_type": "execute_result"
    }
   ],
   "source": [
    "# check the header of the file\n",
    "eves_flare_file1[0].header"
   ]
  },
  {
   "cell_type": "code",
   "execution_count": 9,
   "id": "c825e8a1",
   "metadata": {},
   "outputs": [
    {
     "name": "stdout",
     "output_type": "stream",
     "text": [
      "<class 'NoneType'>\n"
     ]
    }
   ],
   "source": [
    "print(type(eves_flare_file1[0].data))"
   ]
  },
  {
   "cell_type": "markdown",
   "id": "76e5e6fd",
   "metadata": {},
   "source": [
    "\n",
    "### **Level 2 spectrum file - Header 1 - SpectrumMeta** ###\n",
    "\n",
    "The SpectrumMeta data unit contains two arrays, \\\n",
    "one being the center wavelengths of each spectral bin. \\\n",
    "The other array contains the estimate of accuracy of the irradiance on a per bin basis. \n",
    "\n",
    "\n",
    "| Column Name | Type | Description |\n",
    "| :-: | :-: | :-: |\n",
    "| Wavelength | float | 3.4 |\n",
    "| Accuracy | float | 0.005 |\n"
   ]
  },
  {
   "cell_type": "code",
   "execution_count": 10,
   "id": "35c64908",
   "metadata": {},
   "outputs": [
    {
     "name": "stdout",
     "output_type": "stream",
     "text": [
      "<class 'astropy.io.fits.header.Header'>\n"
     ]
    }
   ],
   "source": [
    "print(type(eves_flare_file1[1].header))"
   ]
  },
  {
   "cell_type": "code",
   "execution_count": 11,
   "id": "0cf7bc17",
   "metadata": {},
   "outputs": [
    {
     "data": {
      "text/plain": [
       "XTENSION= 'BINTABLE'           /Binary table written by MWRFITS v1.11           \n",
       "BITPIX  =                    8 /Required value                                  \n",
       "NAXIS   =                    2 /Required value                                  \n",
       "NAXIS1  =                    8 /Number of bytes per row                         \n",
       "NAXIS2  =                 5200 /Number of rows                                  \n",
       "PCOUNT  =                    0 /Normally 0 (no varying arrays)                  \n",
       "GCOUNT  =                    1 /Required value                                  \n",
       "TFIELDS =                    2 /Number of columns in table                      \n",
       "COMMENT                                                                         \n",
       "COMMENT  *** End of mandatory fields ***                                        \n",
       "COMMENT                                                                         \n",
       "EXTNAME = 'SpectrumMeta'                                                        \n",
       "TUNIT1  = 'nm'                                                                  \n",
       "COMMENT                                                                         \n",
       "COMMENT  *** Column names ***                                                   \n",
       "COMMENT                                                                         \n",
       "TTYPE1  = 'WAVELENGTH'         /                                                \n",
       "TTYPE2  = 'ACCURACY'           /                                                \n",
       "COMMENT                                                                         \n",
       "COMMENT  *** Column formats ***                                                 \n",
       "COMMENT                                                                         \n",
       "TFORM1  = 'E       '           /                                                \n",
       "TFORM2  = 'E       '           /                                                \n",
       "COMMENT  Wavelength (nm) is the center value of each bin of sp_irradiance       \n",
       "COMMENT    in the Data table                                                    \n",
       "COMMENT  Accuracy is the relative accuracy of the entire MEGS measurement at    \n",
       "COMMENT    each wavelength.                                                     \n",
       "COMMENT  Precision is the relative precision of the entire MEGS measurement at  \n",
       "COMMENT    each wavelength.                                                     "
      ]
     },
     "execution_count": 11,
     "metadata": {},
     "output_type": "execute_result"
    }
   ],
   "source": [
    "eves_flare_file1[1].header"
   ]
  },
  {
   "cell_type": "code",
   "execution_count": 12,
   "id": "4c2f2b55",
   "metadata": {},
   "outputs": [
    {
     "name": "stdout",
     "output_type": "stream",
     "text": [
      "<class 'astropy.io.fits.fitsrec.FITS_rec'>\n"
     ]
    }
   ],
   "source": [
    "print(type(eves_flare_file1[1].data))"
   ]
  },
  {
   "cell_type": "code",
   "execution_count": 13,
   "id": "d778a6d8",
   "metadata": {},
   "outputs": [
    {
     "data": {
      "text/plain": [
       "FITS_rec([(  3.01, -1.       ), (  3.03, -1.       ),\n",
       "          (  3.05, -1.       ), ..., (106.95, -2.585639 ),\n",
       "          (106.97, -2.5856473), (106.99, -2.5856557)],\n",
       "         dtype=(numpy.record, [('WAVELENGTH', '>f4'), ('ACCURACY', '>f4')]))"
      ]
     },
     "execution_count": 13,
     "metadata": {},
     "output_type": "execute_result"
    }
   ],
   "source": [
    "eves_flare_file1[1].data"
   ]
  },
  {
   "cell_type": "code",
   "execution_count": 14,
   "id": "82b07575",
   "metadata": {},
   "outputs": [
    {
     "data": {
      "text/plain": [
       "(5200,)"
      ]
     },
     "execution_count": 14,
     "metadata": {},
     "output_type": "execute_result"
    }
   ],
   "source": [
    "eves_flare_file1[1].data.shape"
   ]
  },
  {
   "cell_type": "markdown",
   "id": "1f5c4d8b",
   "metadata": {},
   "source": [
    "\n",
    "### **Level 2 spectrum file - Header 2 - SpectrumUnits** ###\n",
    "\n",
    "The SpectrumUnits data unit provides information on the units for each element in the Spectrum data unit.\n",
    "\n",
    "| Column Name | Type | Description |\n",
    "| ----------- | ---- | ----------- |\n",
    "| TAI | STRING | Seconds // International Atomic Time seconds since Jan 1, 1958 at center |\n",
    "| YYYYDOY | STRING | NA // 4-digit year and 3-digit day of year designator with Jan 1=001 |\n",
    "| SOD | STRING | Seconds // seconds of the UT day at the center of the integration |\n",
    "| FLAGS | STRING | NA // 0=good, other values indicate data may be suspect |\n",
    "| SC_FLAGS | STRING | NA // 0=good, other value indicate spacecraft events like eclipses, lunar |\n",
    "| INT_TIME | STRING | Seconds // the duration of the exposure |\n",
    "| IRRADIANCE | STRING | W m^-2 nm^-1 // Spectral power per unit area per nanometer at 1-AU with M |\n",
    "| COUNT_RATE | STRING | Counts s^-1 // Dark corrected count rate per pixel per second |\n",
    "| PRECISION | STRING | NA // relative precision, 0=perfect measurement, 1=signal equals noise, m |\n",
    "| BIN_FLAGS | STRING | NA // flag for each spectral bin, 0=good, 255=missing |"
   ]
  },
  {
   "cell_type": "code",
   "execution_count": 15,
   "id": "b584bc86",
   "metadata": {},
   "outputs": [
    {
     "name": "stdout",
     "output_type": "stream",
     "text": [
      "<class 'astropy.io.fits.header.Header'>\n"
     ]
    }
   ],
   "source": [
    "print(type(eves_flare_file1[2].header))"
   ]
  },
  {
   "cell_type": "code",
   "execution_count": 16,
   "id": "146d13c5",
   "metadata": {},
   "outputs": [
    {
     "data": {
      "text/plain": [
       "XTENSION= 'BINTABLE'           /Binary table written by MWRFITS v1.11           \n",
       "BITPIX  =                    8 /Required value                                  \n",
       "NAXIS   =                    2 /Required value                                  \n",
       "NAXIS1  =                  786 /Number of bytes per row                         \n",
       "NAXIS2  =                    1 /Number of rows                                  \n",
       "PCOUNT  =                    0 /Normally 0 (no varying arrays)                  \n",
       "GCOUNT  =                    1 /Required value                                  \n",
       "TFIELDS =                   10 /Number of columns in table                      \n",
       "COMMENT                                                                         \n",
       "COMMENT  *** End of mandatory fields ***                                        \n",
       "COMMENT                                                                         \n",
       "EXTNAME = 'SpectrumUnits'                                                       \n",
       "COMMENT                                                                         \n",
       "COMMENT  *** Column names ***                                                   \n",
       "COMMENT                                                                         \n",
       "TTYPE1  = 'TAI     '           /                                                \n",
       "TTYPE2  = 'YYYYDOY '           /                                                \n",
       "TTYPE3  = 'SOD     '           /                                                \n",
       "TTYPE4  = 'FLAGS   '           /                                                \n",
       "TTYPE5  = 'SC_FLAGS'           /                                                \n",
       "TTYPE6  = 'INT_TIME'           /                                                \n",
       "TTYPE7  = 'IRRADIANCE'         /                                                \n",
       "TTYPE8  = 'COUNT_RATE'         /                                                \n",
       "TTYPE9  = 'PRECISION'          /                                                \n",
       "TTYPE10 = 'BIN_FLAGS'          /                                                \n",
       "COMMENT                                                                         \n",
       "COMMENT  *** Column formats ***                                                 \n",
       "COMMENT                                                                         \n",
       "TFORM1  = '87A     '           /                                                \n",
       "TFORM2  = '68A     '           /                                                \n",
       "TFORM3  = '65A     '           /                                                \n",
       "TFORM4  = '55A     '           /                                                \n",
       "TFORM5  = '87A     '           /                                                \n",
       "TFORM6  = '39A     '           /                                                \n",
       "TFORM7  = '149A    '           /                                                \n",
       "TFORM8  = '61A     '           /                                                \n",
       "TFORM9  = '122A    '           /                                                \n",
       "TFORM10 = '53A     '           /                                                \n",
       "COMMENT  First element is unit                                                  \n",
       "COMMENT  Other elements are brief descriptions and other info                   "
      ]
     },
     "execution_count": 16,
     "metadata": {},
     "output_type": "execute_result"
    }
   ],
   "source": [
    "eves_flare_file1[2].header"
   ]
  },
  {
   "cell_type": "code",
   "execution_count": 17,
   "id": "70a45629",
   "metadata": {},
   "outputs": [
    {
     "name": "stdout",
     "output_type": "stream",
     "text": [
      "<class 'astropy.io.fits.fitsrec.FITS_rec'>\n"
     ]
    }
   ],
   "source": [
    "print(type(eves_flare_file1[2].data))"
   ]
  },
  {
   "cell_type": "code",
   "execution_count": 18,
   "id": "d8eec6e9",
   "metadata": {},
   "outputs": [
    {
     "data": {
      "text/plain": [
       "FITS_rec([('seconds // International Atomic Time seconds since Jan 1, 1958 at center of integration', 'NA // 4-digit year and 3-digit day of year designator with Jan 1=001', 'seconds // seconds of the UT day at the center of the integration', 'NA // 0=good, other values indicate data may be suspect', 'NA // 0=good, other value indicate spacecraft events like eclipses, lunar transits, etc', 'seconds // the duration of the exposure', 'W m^-2 nm^-1 // Spectral power per unit area per nanometer at 1-AU with MEGS-A providing the spectrum shorter than 37 nm and MEGS-B longer than 37 nm', 'counts s^-1 // Dark corrected count rate per pixel per second', 'NA // relative precision, 0=perfect measurement, 1=signal equals noise, multiply by the irradiance to get units (absolute)', 'NA // flag for each spectral bin, 0=good, 255=missing')],\n",
       "         dtype=(numpy.record, [('TAI', 'S87'), ('YYYYDOY', 'S68'), ('SOD', 'S65'), ('FLAGS', 'S55'), ('SC_FLAGS', 'S87'), ('INT_TIME', 'S39'), ('IRRADIANCE', 'S149'), ('COUNT_RATE', 'S61'), ('PRECISION', 'S122'), ('BIN_FLAGS', 'S53')]))"
      ]
     },
     "execution_count": 18,
     "metadata": {},
     "output_type": "execute_result"
    }
   ],
   "source": [
    "eves_flare_file1[2].data"
   ]
  },
  {
   "cell_type": "code",
   "execution_count": 19,
   "id": "140a54fc",
   "metadata": {},
   "outputs": [
    {
     "data": {
      "text/plain": [
       "(1,)"
      ]
     },
     "execution_count": 19,
     "metadata": {},
     "output_type": "execute_result"
    }
   ],
   "source": [
    "eves_flare_file1[2].data.shape"
   ]
  },
  {
   "cell_type": "markdown",
   "id": "fecb4ef8",
   "metadata": {},
   "source": [
    "### **Level 2 spectrum file - Header 3 - Spectrum** ###\n",
    "\n",
    "The Spectrum data unit contains the actual data for the observation period. It holds the irradiance spectrum as well as other values as described in the following table.\n",
    "\n",
    "| Column Name | Type | Description |\n",
    "| ----------- | ---- | ----------- |\n",
    "| TAI | DOUBLE | 1.6514172e+09 |\n",
    "| YYYYDOY | LONG | 2010121 |\n",
    "| SOD | DOUBLE | 54000.621 |\n",
    "| FLAGS | BYTE | 0 |\n",
    "| SC_FLAGS | BYTE | 0 |\n",
    "| INT_TIME | DOUBLE | 10.000000 |\n",
    "| IRRADIANCE | FLOAT | Array[5200] |\n",
    "| COUNT_RATE | FLOAT | Array[5200] |\n",
    "| PRECISION | FLOAT | Array[5200] |\n",
    "| BIN_FLAGS | BYTE | Array[5200] |"
   ]
  },
  {
   "cell_type": "code",
   "execution_count": 20,
   "id": "21ad97f1",
   "metadata": {},
   "outputs": [
    {
     "name": "stdout",
     "output_type": "stream",
     "text": [
      "<class 'astropy.io.fits.header.Header'>\n"
     ]
    }
   ],
   "source": [
    "print(type(eves_flare_file1[3].header))"
   ]
  },
  {
   "cell_type": "code",
   "execution_count": 21,
   "id": "54eaf308",
   "metadata": {},
   "outputs": [
    {
     "data": {
      "text/plain": [
       "XTENSION= 'BINTABLE'           /Binary table written by MWRFITS v1.11           \n",
       "BITPIX  =                    8 /Required value                                  \n",
       "NAXIS   =                    2 /Required value                                  \n",
       "NAXIS1  =                67630 /Number of bytes per row                         \n",
       "NAXIS2  =                  360 /Number of rows                                  \n",
       "PCOUNT  =                    0 /Normally 0 (no varying arrays)                  \n",
       "GCOUNT  =                    1 /Required value                                  \n",
       "TFIELDS =                   10 /Number of columns in table                      \n",
       "COMMENT                                                                         \n",
       "COMMENT  *** End of mandatory fields ***                                        \n",
       "COMMENT                                                                         \n",
       "ORIGIN  = '            SDO/EVE SPOC' // LASP, University of Colorado, Boulder   \n",
       "DATE    = '2021-08-18T15:06:07.000Z' // UTC file creation time (per ISO8601)    \n",
       "TAI_OBS =            1747184439.279 // TAI time at start of obs                 \n",
       "DATE_OBS= '2013-05-14T01:00:04.279Z' // UTC at start of obs                     \n",
       "T_OBS   = '2013-05-14T01:00:09.279Z' // UTC at center of obs                    \n",
       "EXPTIME =                    10.000 // seconds exposed, or integration time     \n",
       "TIME    =                  3604.279 // UTC seconds of day at start of obs       \n",
       "TELESCOP= '            SDO/EVE'                                                 \n",
       "INSTRUME= '        EVE_MEGS'                                                    \n",
       "VERSION =                        07 // major code/cal version                   \n",
       "REVISION=                        01 // reprocess number                         \n",
       "FILENAME= 'EVS_L2_2013134_01_007_01.fit'                                        \n",
       "COMMENT                                                                         \n",
       "COMMENT  *** Column names ***                                                   \n",
       "COMMENT                                                                         \n",
       "TTYPE1  = 'TAI     '           /                                                \n",
       "TTYPE2  = 'YYYYDOY '           /                                                \n",
       "TTYPE3  = 'SOD     '           /                                                \n",
       "TTYPE4  = 'FLAGS   '           /                                                \n",
       "TTYPE5  = 'SC_FLAGS'           /                                                \n",
       "TTYPE6  = 'INT_TIME'           /                                                \n",
       "TTYPE7  = 'IRRADIANCE'         /                                                \n",
       "TTYPE8  = 'COUNT_RATE'         /                                                \n",
       "TTYPE9  = 'PRECISION'          /                                                \n",
       "TTYPE10 = 'BIN_FLAGS'          /                                                \n",
       "COMMENT                                                                         \n",
       "COMMENT  *** Column formats ***                                                 \n",
       "COMMENT                                                                         \n",
       "TFORM1  = 'D       '           /                                                \n",
       "TFORM2  = 'J       '           /                                                \n",
       "TFORM3  = 'D       '           /                                                \n",
       "TFORM4  = 'B       '           /                                                \n",
       "TFORM5  = 'B       '           /                                                \n",
       "TFORM6  = 'D       '           /                                                \n",
       "TFORM7  = '5200E   '           /                                                \n",
       "TFORM8  = '5200E   '           /                                                \n",
       "TFORM9  = '5200E   '           /                                                \n",
       "TFORM10 = '5200B   '           /                                                \n",
       "COMMENT Website reference http://lasp.colorado.edu/home/eve                     \n",
       "COMMENT EVE Principal Investigator T. N. Woods                                  \n",
       "COMMENT Laboratory for Atmospheric and Space Physics                            \n",
       "COMMENT 1234 Innovation Drive, Boulder, CO 80303                                \n",
       "COMMENT SDO Mission scientific and model results are open to all.               \n",
       "COMMENT Users should contact the PI or designated EVE team member early in an   \n",
       "COMMENT analysis project to discuss appropriate use of instrument data results. \n",
       "COMMENT Appropriate acknowledgement to institutions, personnel, and funding     \n",
       "COMMENT agencies should be given. Version numbers should also be specified.     \n",
       "COMMENT Pre-prints of publications and conference abstracts should be widely    \n",
       "COMMENT distributed to interested parties within the mission.                   \n",
       "EXTNAME = 'Spectrum'                                                            \n",
       "COMMENT  Wavelength scale is as described in SpectrumMeta table                 \n",
       "COMMENT  Count_Rate is the dark corrected counts per second per pixel           \n",
       "COMMENT    for pixels determined to be within the wavelength bin.               \n",
       "COMMENT  Data from short wavelengths up to and including 17.24 nm               \n",
       "COMMENT    are from MEGS-A slit 1. Data from above that point to 33.34 nm       \n",
       "COMMENT    are from MEGS-A slit 2. Data above that point are from MEGS-B.       \n",
       "COMMENT  MEGS-B has reduced exposure time to increase detector life.            \n",
       "COMMENT  Values in FLAGS field are the bitwise OR of these values.              \n",
       "COMMENT  Bit 0 (value    1) - MEGS-A data is missing                            \n",
       "COMMENT  Bit 1 (value    2) - MEGS-B data is missing                            \n",
       "COMMENT  Values in SC_FLAGS field are the bitwise OR of these values.           \n",
       "COMMENT  Bit 0 (value    1) - 4-bit obstruction indicator (0 is no obstruction) \n",
       "COMMENT  Bit 1 (value    2) - 4-bit obstruction indicator (0 is no obstruction) \n",
       "COMMENT  Bit 2 (value    4) - 4-bit obstruction indicator (0 is no obstruction) \n",
       "COMMENT  Bit 3 (value    8) - 4-bit obstruction indicator (0 is no obstruction) \n",
       "COMMENT  Bit 4 (value   16) - Observatory is off-pointed by more than 1 arcmin  \n",
       "COMMENT  Obstruction flag values:                                               \n",
       "COMMENT  Value 0 No obstruction                                                 \n",
       "COMMENT  Value 1 Warmup from Earth eclipse                                      \n",
       "COMMENT  Value 2 Atmosphere penumbra                                            \n",
       "COMMENT  Value 3 Atmosphere umbra                                               \n",
       "COMMENT  Value 4 Penumbra of Mercury                                            \n",
       "COMMENT  Value 5 Umbra of Mercury                                               \n",
       "COMMENT  Value 6 Penumbra of Venus                                              \n",
       "COMMENT  Value 7 Umbra of Venus                                                 \n",
       "COMMENT  Value 8 Penumbra of Moon                                               \n",
       "COMMENT  Value 9 Umbra of Moon                                                  \n",
       "COMMENT  Value 10 Penumbra of solid Earth                                       \n",
       "COMMENT  Value 11 Umbra of solid Earth                                          \n",
       "COMMENT  If more than one obstruction is taking place, only                     \n",
       "COMMENT  the highest-numbered one will be indicated.                            "
      ]
     },
     "execution_count": 21,
     "metadata": {},
     "output_type": "execute_result"
    }
   ],
   "source": [
    "eves_flare_file1[3].header"
   ]
  },
  {
   "cell_type": "code",
   "execution_count": 22,
   "id": "5cfa60fe",
   "metadata": {},
   "outputs": [
    {
     "name": "stdout",
     "output_type": "stream",
     "text": [
      "<class 'astropy.io.fits.fitsrec.FITS_rec'>\n"
     ]
    }
   ],
   "source": [
    "print(type(eves_flare_file1[3].data))"
   ]
  },
  {
   "cell_type": "code",
   "execution_count": 23,
   "id": "5a89b0d9",
   "metadata": {},
   "outputs": [
    {
     "data": {
      "text/plain": [
       "(360,)"
      ]
     },
     "execution_count": 23,
     "metadata": {},
     "output_type": "execute_result"
    }
   ],
   "source": [
    "eves_flare_file1[3].data.shape"
   ]
  },
  {
   "cell_type": "code",
   "execution_count": 24,
   "id": "d3adbd88",
   "metadata": {},
   "outputs": [
    {
     "data": {
      "text/plain": [
       "(360, 5200)"
      ]
     },
     "execution_count": 24,
     "metadata": {},
     "output_type": "execute_result"
    }
   ],
   "source": [
    "data = eves_flare_file1[3].data\n",
    "\n",
    "# field(7) is a spectrum in count rates (DN/s) - column 7 with keyword TTYPE8 in header[3]\n",
    "spectrum_dns = data.field(7)\n",
    "\n",
    "spectrum_dns.shape\n",
    "# array returns (360,5200) which means that \n",
    "# the array has 360 dimensions (which is 1 hour of data with 10 sec time resolution) and \n",
    "# each dimension has 5200 values (which is a spectra for the given wavelength range)"
   ]
  },
  {
   "cell_type": "code",
   "execution_count": 25,
   "id": "974c302c",
   "metadata": {},
   "outputs": [
    {
     "name": "stdout",
     "output_type": "stream",
     "text": [
      "Wavelength unit =  nm\n",
      " \n",
      "<class 'numpy.ndarray'>\n",
      " \n",
      "List elements of Wavelength array in nm unit:  [  3.01   3.03   3.05 ... 106.95 106.97 106.99]\n",
      " \n",
      "Length of the wavelength array: 5200\n",
      " \n",
      "First element of the wavelength array: 3.01\n",
      " \n",
      "Last element of the wavelength array: 106.99\n",
      " \n",
      "List elements of Wavelength array in Angstrom unit:  [  30.1   30.3   30.5 ... 1069.5 1069.7 1069.9]\n",
      " \n",
      "List elements of Wavelength array in Angstrom unit:  120.100006\n",
      " \n",
      "List elements of Wavelength array in Angstrom unit:  150.1\n",
      " \n"
     ]
    }
   ],
   "source": [
    "# Find the units of wavelength array\n",
    "print(\"Wavelength unit = \",eves_flare_file1[1].header[12])\n",
    "print(\" \")\n",
    "\n",
    "# Find the wavelength array in the EVES data\n",
    "meta1 = eves_flare_file1[1].data\n",
    "eves_wavelength_nm = meta1.field(0)\n",
    "\n",
    "# print the type of wavelength array\n",
    "print(type(eves_wavelength_nm))\n",
    "print(\" \")\n",
    "\n",
    "# find the elements of the wavelength array\n",
    "print(\"List elements of Wavelength array in nm unit: \",eves_wavelength_nm)\n",
    "print(\" \")\n",
    "\n",
    "# find the number of elements in the wavelength array\n",
    "print(\"Length of the wavelength array:\",len(eves_wavelength_nm))\n",
    "print(\" \")\n",
    "\n",
    "# find the first element of the wavelength array\n",
    "print(\"First element of the wavelength array:\", eves_wavelength_nm[0])\n",
    "print(\" \")\n",
    "\n",
    "# find the last element of the wavelength array\n",
    "print(\"Last element of the wavelength array:\", eves_wavelength_nm[5199])\n",
    "print(\" \")\n",
    "\n",
    "# convert wavelength array from nanometers to Angstrom units\n",
    "eves_wavelength_ang = eves_wavelength_nm * 10.0\n",
    "print(\"List elements of Wavelength array in Angstrom unit: \",eves_wavelength_ang)\n",
    "print(\" \")\n",
    "\n",
    "# get the index of the wavelength array corresponds to 120 to 150 Angstrom\n",
    "print(\"List elements of Wavelength array in Angstrom unit: \",eves_wavelength_ang[450])\n",
    "print(\" \")\n",
    "\n",
    "print(\"List elements of Wavelength array in Angstrom unit: \",eves_wavelength_ang[600])\n",
    "print(\" \")"
   ]
  },
  {
   "cell_type": "code",
   "execution_count": 26,
   "id": "6e9eb0cf",
   "metadata": {},
   "outputs": [
    {
     "name": "stdout",
     "output_type": "stream",
     "text": [
      "Exposure time for the spectra =  10.0\n",
      "No. of elements in Spectrum array in DN units:  (150,)\n",
      " \n"
     ]
    }
   ],
   "source": [
    "# print the exposure time for the observation\n",
    "print('Exposure time for the spectra = ', eves_flare_file1[3].header['EXPTIME'])\n",
    "\n",
    "# get the spectra between wavelength 120 and 150 Angstrom at 68th index in time\n",
    "# Choose the same index in spectra \n",
    "spectrum_dns[68,450:600]\n",
    "\n",
    "# convert DN/s to DN\n",
    "spectrum_dn = spectrum_dns[68,450:600]*eves_flare_file1[3].header['EXPTIME']\n",
    "\n",
    "# check the shape of the array\n",
    "print('No. of elements in Spectrum array in DN units: ',spectrum_dn.shape)\n",
    "print(' ')"
   ]
  },
  {
   "cell_type": "code",
   "execution_count": 27,
   "id": "db3e21b9",
   "metadata": {},
   "outputs": [
    {
     "name": "stdout",
     "output_type": "stream",
     "text": [
      "Hour =  1.0\n",
      "minute =  11.0\n",
      "sec =  24\n",
      "\n"
     ]
    }
   ],
   "source": [
    "# Get the spectra for particular time step \n",
    "# time-stamps for each data point in seconds of the day in UT\n",
    "\n",
    "time = data.field(2)\n",
    "\n",
    "### Converting into hours, minutes, seconds\n",
    "t = time[68] # this is a X3.2 flare peak time\n",
    "\n",
    "hr = t/(60*60)\n",
    "r_hr = hr%1\n",
    "hour = hr-r_hr\n",
    "\n",
    "mn = r_hr*60\n",
    "r_mn = mn%1\n",
    "minute = mn-r_mn\n",
    "\n",
    "sec = round(r_mn*60)\n",
    "\n",
    "print('Hour = ', hour)\n",
    "print('minute = ', minute)\n",
    "print('sec = ', sec)\n",
    "print('')\n"
   ]
  },
  {
   "cell_type": "code",
   "execution_count": 28,
   "id": "7d851c8f",
   "metadata": {},
   "outputs": [
    {
     "name": "stderr",
     "output_type": "stream",
     "text": [
      "<>:7: SyntaxWarning: invalid escape sequence '\\A'\n",
      "<>:7: SyntaxWarning: invalid escape sequence '\\A'\n",
      "/var/folders/g9/w6z321fx25s_jyvjvcjz53480000gn/T/ipykernel_19078/3187757212.py:7: SyntaxWarning: invalid escape sequence '\\A'\n",
      "  plt.xlabel('Wavelength ($\\AA$)')\n"
     ]
    },
    {
     "data": {
      "image/png": "[encoded data removed]",
      "text/plain": [
       "<Figure size 1500x500 with 1 Axes>"
      ]
     },
     "metadata": {},
     "output_type": "display_data"
    }
   ],
   "source": [
    "# change the size of the plot\n",
    "plt.rcParams[\"figure.figsize\"] = (15,5)\n",
    "\n",
    "#plot spectrum\n",
    "plt.plot(eves_wavelength_ang[450:600], spectrum_dn, color = 'r', ds ='steps-mid')\n",
    "plt.xticks(ticks = np.arange(120, 150, step=1))\n",
    "plt.xlabel('Wavelength ($\\AA$)')\n",
    "plt.ylabel('Intensity (DN)')\n",
    "plt.title('14-May-2013 X3.2: 120-150 Angstrom Spectrum at time = {0:.0f}:{1:.0f}:{2:.0f} UT'.format(hour,minute,sec))\n",
    "plt.show()"
   ]
  },
  {
   "cell_type": "code",
   "execution_count": 29,
   "id": "51d6ce93",
   "metadata": {},
   "outputs": [
    {
     "name": "stderr",
     "output_type": "stream",
     "text": [
      "<>:7: SyntaxWarning: invalid escape sequence '\\A'\n",
      "<>:7: SyntaxWarning: invalid escape sequence '\\A'\n",
      "/var/folders/g9/w6z321fx25s_jyvjvcjz53480000gn/T/ipykernel_19078/2931026181.py:7: SyntaxWarning: invalid escape sequence '\\A'\n",
      "  plt.xlabel('Wavelength ($\\AA$)')\n"
     ]
    },
    {
     "data": {
      "image/png": "[encoded data removed]",
      "text/plain": [
       "<Figure size 500x400 with 1 Axes>"
      ]
     },
     "metadata": {},
     "output_type": "display_data"
    }
   ],
   "source": [
    "# change the size of the plot\n",
    "plt.rcParams[\"figure.figsize\"] = (5,4)\n",
    "#plt.plot(eves_wavelength_ang[450:600], spectrum_dn, color = 'r')\n",
    "\n",
    "plt.plot(eves_wavelength_ang[490:498], spectrum_dns[68,490:498]*eves_flare_file1[3].header['EXPTIME'], color = 'r', ds ='steps-mid')\n",
    "#plt.xticks(ticks = np.arange(130.5, 132, stp=0.2))\n",
    "plt.xlabel('Wavelength ($\\AA$)')\n",
    "plt.ylabel('Intensity (DN)')\n",
    "plt.title('SOL2013-05-14 X3.2 - Fe XXI 128.75 Angstrom Spectrum at time = 0{0:.0f}:{1:.0f}:{2:.0f} UT'.format(hour,minute,sec))\n",
    "plt.show()"
   ]
  },
  {
   "cell_type": "code",
   "execution_count": null,
   "id": "449e81a7",
   "metadata": {},
   "outputs": [],
   "source": []
  },
  {
   "cell_type": "code",
   "execution_count": null,
   "id": "e1a0c5b7",
   "metadata": {},
   "outputs": [],
   "source": []
  }
 ],
 "metadata": {
  "kernelspec": {
   "display_name": "solar",
   "language": "python",
   "name": "python3"
  },
  "language_info": {
   "codemirror_mode": {
    "name": "ipython",
    "version": 3
   },
   "file_extension": ".py",
   "mimetype": "text/x-python",
   "name": "python",
   "nbconvert_exporter": "python",
   "pygments_lexer": "ipython3",
   "version": "3.12.7"
  }
 },
 "nbformat": 4,
 "nbformat_minor": 5
}
